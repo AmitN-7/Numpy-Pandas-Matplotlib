{
 "cells": [
  {
   "cell_type": "markdown",
   "id": "b9892974",
   "metadata": {},
   "source": [
    "# Learning numpy"
   ]
  },
  {
   "cell_type": "markdown",
   "id": "29233249",
   "metadata": {},
   "source": [
    "# Array Creation: Conversion from lists & some attributes"
   ]
  },
  {
   "cell_type": "code",
   "execution_count": 1,
   "id": "83d18d6f",
   "metadata": {},
   "outputs": [],
   "source": [
    "import numpy as np"
   ]
  },
  {
   "cell_type": "code",
   "execution_count": 2,
   "id": "16440059",
   "metadata": {},
   "outputs": [],
   "source": [
    "arr = np.array([1,2,3,4,5])"
   ]
  },
  {
   "cell_type": "code",
   "execution_count": 3,
   "id": "c3420ce5",
   "metadata": {},
   "outputs": [
    {
     "data": {
      "text/plain": [
       "array([1, 2, 3, 4, 5])"
      ]
     },
     "execution_count": 3,
     "metadata": {},
     "output_type": "execute_result"
    }
   ],
   "source": [
    "arr"
   ]
  },
  {
   "cell_type": "code",
   "execution_count": 4,
   "id": "cfde1412",
   "metadata": {},
   "outputs": [],
   "source": [
    "arr = np.array([1,2,3,4,5], np.int8)"
   ]
  },
  {
   "cell_type": "code",
   "execution_count": 5,
   "id": "7f622bd0",
   "metadata": {},
   "outputs": [
    {
     "data": {
      "text/plain": [
       "array([1, 2, 3, 4, 5], dtype=int8)"
      ]
     },
     "execution_count": 5,
     "metadata": {},
     "output_type": "execute_result"
    }
   ],
   "source": [
    "arr"
   ]
  },
  {
   "cell_type": "code",
   "execution_count": 6,
   "id": "f295dac3",
   "metadata": {},
   "outputs": [],
   "source": [
    "arr = np.array([[1,2,3,4,5]])"
   ]
  },
  {
   "cell_type": "code",
   "execution_count": 7,
   "id": "f03e5558",
   "metadata": {},
   "outputs": [
    {
     "data": {
      "text/plain": [
       "2"
      ]
     },
     "execution_count": 7,
     "metadata": {},
     "output_type": "execute_result"
    }
   ],
   "source": [
    "arr[0,1]"
   ]
  },
  {
   "cell_type": "code",
   "execution_count": 8,
   "id": "2c067f40",
   "metadata": {},
   "outputs": [
    {
     "data": {
      "text/plain": [
       "(1, 5)"
      ]
     },
     "execution_count": 8,
     "metadata": {},
     "output_type": "execute_result"
    }
   ],
   "source": [
    "arr.shape"
   ]
  },
  {
   "cell_type": "code",
   "execution_count": 9,
   "id": "28bb1411",
   "metadata": {},
   "outputs": [],
   "source": [
    "arr = np.array([[1,2,3,4,5]], np.int8)"
   ]
  },
  {
   "cell_type": "code",
   "execution_count": 10,
   "id": "2dfd3d78",
   "metadata": {},
   "outputs": [
    {
     "data": {
      "text/plain": [
       "dtype('int8')"
      ]
     },
     "execution_count": 10,
     "metadata": {},
     "output_type": "execute_result"
    }
   ],
   "source": [
    "arr.dtype"
   ]
  },
  {
   "cell_type": "code",
   "execution_count": 11,
   "id": "dc2166e1",
   "metadata": {},
   "outputs": [],
   "source": [
    "arr = np.array([[1,2,3,4,5]])"
   ]
  },
  {
   "cell_type": "code",
   "execution_count": 12,
   "id": "0bf5ab54",
   "metadata": {},
   "outputs": [],
   "source": [
    "arr[0,4]=6"
   ]
  },
  {
   "cell_type": "code",
   "execution_count": 13,
   "id": "c3368ae6",
   "metadata": {},
   "outputs": [
    {
     "data": {
      "text/plain": [
       "array([[1, 2, 3, 4, 6]])"
      ]
     },
     "execution_count": 13,
     "metadata": {},
     "output_type": "execute_result"
    }
   ],
   "source": [
    "arr\n"
   ]
  },
  {
   "cell_type": "code",
   "execution_count": 14,
   "id": "8455bd96",
   "metadata": {},
   "outputs": [
    {
     "data": {
      "text/plain": [
       "20"
      ]
     },
     "execution_count": 14,
     "metadata": {},
     "output_type": "execute_result"
    }
   ],
   "source": [
    "arr.nbytes "
   ]
  },
  {
   "cell_type": "code",
   "execution_count": 15,
   "id": "953f7c92",
   "metadata": {},
   "outputs": [],
   "source": [
    "list_arr=np.array([[1,2,3],[4,5,6,],[7,8,9]])"
   ]
  },
  {
   "cell_type": "code",
   "execution_count": 16,
   "id": "869a1e54",
   "metadata": {},
   "outputs": [
    {
     "data": {
      "text/plain": [
       "array([[1, 2, 3],\n",
       "       [4, 5, 6],\n",
       "       [7, 8, 9]])"
      ]
     },
     "execution_count": 16,
     "metadata": {},
     "output_type": "execute_result"
    }
   ],
   "source": [
    "list_arr"
   ]
  },
  {
   "cell_type": "code",
   "execution_count": 17,
   "id": "dfe88467",
   "metadata": {},
   "outputs": [
    {
     "data": {
      "text/plain": [
       "2"
      ]
     },
     "execution_count": 17,
     "metadata": {},
     "output_type": "execute_result"
    }
   ],
   "source": [
    "list_arr.ndim"
   ]
  },
  {
   "cell_type": "markdown",
   "id": "1871ee8c",
   "metadata": {},
   "source": [
    "# Arrays from Existing Data"
   ]
  },
  {
   "cell_type": "markdown",
   "id": "6412d5c6",
   "metadata": {},
   "source": [
    "**1.asarray()**"
   ]
  },
  {
   "cell_type": "code",
   "execution_count": 18,
   "id": "cbcd90f5",
   "metadata": {},
   "outputs": [],
   "source": [
    "abc=np.array([[1,2,3],[4,5,6,],[7,8,9]])"
   ]
  },
  {
   "cell_type": "code",
   "execution_count": 19,
   "id": "a3dc21bf",
   "metadata": {},
   "outputs": [
    {
     "data": {
      "text/plain": [
       "array([[1., 2., 3.],\n",
       "       [4., 5., 6.],\n",
       "       [7., 8., 9.]])"
      ]
     },
     "execution_count": 19,
     "metadata": {},
     "output_type": "execute_result"
    }
   ],
   "source": [
    "xyz=np.asarray(abc,dtype=\"float\",order=\"F\") #Row Major=C & Column Major = \"F\",to print nditer() is used\n",
    "xyz                               "
   ]
  },
  {
   "cell_type": "code",
   "execution_count": 20,
   "id": "023f175c",
   "metadata": {},
   "outputs": [
    {
     "name": "stdout",
     "output_type": "stream",
     "text": [
      "1.0\n",
      "4.0\n",
      "7.0\n",
      "2.0\n",
      "5.0\n",
      "8.0\n",
      "3.0\n",
      "6.0\n",
      "9.0\n"
     ]
    }
   ],
   "source": [
    "for i in np.nditer(xyz):\n",
    "    print (i)\n",
    "    "
   ]
  },
  {
   "cell_type": "markdown",
   "id": "64d325f2",
   "metadata": {},
   "source": [
    "**2.frombuffer()**"
   ]
  },
  {
   "cell_type": "code",
   "execution_count": 21,
   "id": "e7bc0d07",
   "metadata": {},
   "outputs": [],
   "source": [
    "q=b\"I am learning numpy\" #b means data is stored in bytes"
   ]
  },
  {
   "cell_type": "code",
   "execution_count": 22,
   "id": "2950fc16",
   "metadata": {},
   "outputs": [
    {
     "data": {
      "text/plain": [
       "array([b'I', b' ', b'a', b'm', b' ', b'l', b'e', b'a', b'r', b'n', b'i',\n",
       "       b'n', b'g', b' ', b'n', b'u', b'm', b'p', b'y'], dtype='|S1')"
      ]
     },
     "execution_count": 22,
     "metadata": {},
     "output_type": "execute_result"
    }
   ],
   "source": [
    "l=np.frombuffer(q,dtype=\"S1\",count=-1,offset=0)\n",
    "#count =-1 is default and takes all values and offset is the index of starting value &S1=1 byte data\n",
    "l"
   ]
  },
  {
   "cell_type": "markdown",
   "id": "e2093bc5",
   "metadata": {},
   "source": [
    "**3.fromiter()**"
   ]
  },
  {
   "cell_type": "code",
   "execution_count": 23,
   "id": "60e4c899",
   "metadata": {},
   "outputs": [],
   "source": [
    "lst=[10.0,20,30.0,40]"
   ]
  },
  {
   "cell_type": "code",
   "execution_count": 24,
   "id": "3b1368bf",
   "metadata": {},
   "outputs": [
    {
     "data": {
      "text/plain": [
       "array([10, 20])"
      ]
     },
     "execution_count": 24,
     "metadata": {},
     "output_type": "execute_result"
    }
   ],
   "source": [
    "iterr=np.fromiter(lst,dtype=\"int\",count=2)\n",
    "iterr"
   ]
  },
  {
   "cell_type": "markdown",
   "id": "1948f95c",
   "metadata": {},
   "source": [
    "# Arrays with Numerical Ranges"
   ]
  },
  {
   "cell_type": "markdown",
   "id": "0c9b08d4",
   "metadata": {},
   "source": [
    "**1.arange()** "
   ]
  },
  {
   "cell_type": "code",
   "execution_count": 25,
   "id": "52974927",
   "metadata": {},
   "outputs": [
    {
     "data": {
      "text/plain": [
       "array([0, 2, 4, 6, 8])"
      ]
     },
     "execution_count": 25,
     "metadata": {},
     "output_type": "execute_result"
    }
   ],
   "source": [
    "np.arange(0,10,2,dtype=\"int\")#This gives the arrauy of the list; #arange() doesnt give stop value"
   ]
  },
  {
   "cell_type": "code",
   "execution_count": 26,
   "id": "ef3de164",
   "metadata": {},
   "outputs": [],
   "source": [
    "ary=np.arange(0,10,2,dtype=\"int\")\n"
   ]
  },
  {
   "cell_type": "code",
   "execution_count": 27,
   "id": "a0ce3f79",
   "metadata": {},
   "outputs": [
    {
     "name": "stdout",
     "output_type": "stream",
     "text": [
      "[0 2 4 6 8]\n"
     ]
    }
   ],
   "source": [
    "print(ary) #This process gives array(space seperated value)"
   ]
  },
  {
   "cell_type": "markdown",
   "id": "a3b784df",
   "metadata": {},
   "source": [
    "**2.linspace()**"
   ]
  },
  {
   "cell_type": "code",
   "execution_count": 28,
   "id": "5eccfda8",
   "metadata": {},
   "outputs": [],
   "source": [
    "arrr=np.linspace(0,10,5)"
   ]
  },
  {
   "cell_type": "code",
   "execution_count": 29,
   "id": "ea558a28",
   "metadata": {},
   "outputs": [
    {
     "name": "stdout",
     "output_type": "stream",
     "text": [
      "[ 0.   2.5  5.   7.5 10. ]\n"
     ]
    }
   ],
   "source": [
    "print(arrr) #linspace includes stop value by default"
   ]
  },
  {
   "cell_type": "code",
   "execution_count": 30,
   "id": "83a5108d",
   "metadata": {},
   "outputs": [],
   "source": [
    "arrr=np.linspace(0,10,5,endpoint=False) #endpoint is used to exclude stop value"
   ]
  },
  {
   "cell_type": "code",
   "execution_count": 31,
   "id": "c7059454",
   "metadata": {},
   "outputs": [
    {
     "name": "stdout",
     "output_type": "stream",
     "text": [
      "[0. 2. 4. 6. 8.]\n"
     ]
    }
   ],
   "source": [
    "print(arrr)"
   ]
  },
  {
   "cell_type": "code",
   "execution_count": 32,
   "id": "ba33c914",
   "metadata": {},
   "outputs": [],
   "source": [
    "arrr=np.linspace(0,10,5,endpoint=False,\n",
    "                 retstep=True) #retstep is false by default"
   ]
  },
  {
   "cell_type": "code",
   "execution_count": 33,
   "id": "8c50d4ae",
   "metadata": {},
   "outputs": [
    {
     "name": "stdout",
     "output_type": "stream",
     "text": [
      "(array([0., 2., 4., 6., 8.]), 2.0)\n"
     ]
    }
   ],
   "source": [
    "print(arrr)"
   ]
  },
  {
   "cell_type": "code",
   "execution_count": 34,
   "id": "d93eb577",
   "metadata": {},
   "outputs": [
    {
     "data": {
      "text/plain": [
       "array([[ 1.,  2.],\n",
       "       [ 2.,  4.],\n",
       "       [ 3.,  6.],\n",
       "       [ 4.,  8.],\n",
       "       [ 5., 10.],\n",
       "       [ 6., 12.],\n",
       "       [ 7., 14.],\n",
       "       [ 8., 16.],\n",
       "       [ 9., 18.],\n",
       "       [10., 20.]])"
      ]
     },
     "execution_count": 34,
     "metadata": {},
     "output_type": "execute_result"
    }
   ],
   "source": [
    "lss=np.linspace((1,2),(10,20),10)\n",
    "lss"
   ]
  },
  {
   "cell_type": "markdown",
   "id": "7c59a8a2",
   "metadata": {},
   "source": [
    "**3.logspace()**"
   ]
  },
  {
   "cell_type": "code",
   "execution_count": 35,
   "id": "67cf5de9",
   "metadata": {},
   "outputs": [],
   "source": [
    "larrr=np.logspace(0,10,5,endpoint=False,base=2)"
   ]
  },
  {
   "cell_type": "code",
   "execution_count": 36,
   "id": "fdc3f595",
   "metadata": {},
   "outputs": [
    {
     "name": "stdout",
     "output_type": "stream",
     "text": [
      "[  1.   4.  16.  64. 256.]\n"
     ]
    }
   ],
   "source": [
    "print(larrr)"
   ]
  },
  {
   "cell_type": "markdown",
   "id": "4737a97a",
   "metadata": {},
   "source": [
    "**4.random.randint()**"
   ]
  },
  {
   "cell_type": "code",
   "execution_count": 37,
   "id": "b8848d75",
   "metadata": {},
   "outputs": [
    {
     "data": {
      "text/plain": [
       "array([0.39119444, 0.502074  , 0.79477879, 0.36221772, 0.92377521,\n",
       "       0.60940576, 0.48439787, 0.61068971, 0.31787178, 0.74671582])"
      ]
     },
     "execution_count": 37,
     "metadata": {},
     "output_type": "execute_result"
    }
   ],
   "source": [
    "rarr1=np.random.rand(10)\n",
    "rarr1"
   ]
  },
  {
   "cell_type": "code",
   "execution_count": 38,
   "id": "c2b54bae",
   "metadata": {},
   "outputs": [
    {
     "data": {
      "text/plain": [
       "array([[0.71200357, 0.13258724, 0.3311297 ],\n",
       "       [0.71012327, 0.18262292, 0.630994  ],\n",
       "       [0.39014848, 0.52740123, 0.51652418]])"
      ]
     },
     "execution_count": 38,
     "metadata": {},
     "output_type": "execute_result"
    }
   ],
   "source": [
    "rarr2=np.random.rand(3,3)\n",
    "rarr2"
   ]
  },
  {
   "cell_type": "code",
   "execution_count": 39,
   "id": "2d444b12",
   "metadata": {},
   "outputs": [
    {
     "data": {
      "text/plain": [
       "dtype('float64')"
      ]
     },
     "execution_count": 39,
     "metadata": {},
     "output_type": "execute_result"
    }
   ],
   "source": [
    "rarr2.dtype"
   ]
  },
  {
   "cell_type": "code",
   "execution_count": 40,
   "id": "d13181d8",
   "metadata": {},
   "outputs": [
    {
     "data": {
      "text/plain": [
       "array([41, 19, 47,  5, 33, 11,  9, 18,  1,  6, 39, 45, 22, 36, 39, 43, 12,\n",
       "       22, 44, 29, 26, 20, 19, 22, 24, 47,  0, 48,  0, 46])"
      ]
     },
     "execution_count": 40,
     "metadata": {},
     "output_type": "execute_result"
    }
   ],
   "source": [
    "rarr3=np.random.randint(0,50,30) #Randint gives random integer\n",
    "rarr3"
   ]
  },
  {
   "cell_type": "markdown",
   "id": "65b6dc7a",
   "metadata": {},
   "source": [
    "# shape() , reshape()"
   ]
  },
  {
   "cell_type": "code",
   "execution_count": 41,
   "id": "7a44d542",
   "metadata": {},
   "outputs": [],
   "source": [
    "aa32=([[1,4],[6,9],[20,60]])\n"
   ]
  },
  {
   "cell_type": "code",
   "execution_count": 42,
   "id": "eee8bd2e",
   "metadata": {},
   "outputs": [
    {
     "data": {
      "text/plain": [
       "array([[ 1,  4],\n",
       "       [ 6,  9],\n",
       "       [20, 60]])"
      ]
     },
     "execution_count": 42,
     "metadata": {},
     "output_type": "execute_result"
    }
   ],
   "source": [
    "a32=np.array(aa32)\n",
    "a32"
   ]
  },
  {
   "cell_type": "code",
   "execution_count": 43,
   "id": "2f82c793",
   "metadata": {},
   "outputs": [
    {
     "data": {
      "text/plain": [
       "(3, 2)"
      ]
     },
     "execution_count": 43,
     "metadata": {},
     "output_type": "execute_result"
    }
   ],
   "source": [
    "np.shape(a32)"
   ]
  },
  {
   "cell_type": "code",
   "execution_count": 44,
   "id": "00912fab",
   "metadata": {},
   "outputs": [
    {
     "data": {
      "text/plain": [
       "array([[ 1,  4,  6],\n",
       "       [ 9, 20, 60]])"
      ]
     },
     "execution_count": 44,
     "metadata": {},
     "output_type": "execute_result"
    }
   ],
   "source": [
    "np.reshape(a32,(2,3))"
   ]
  },
  {
   "cell_type": "code",
   "execution_count": 45,
   "id": "01be0a69",
   "metadata": {},
   "outputs": [
    {
     "data": {
      "text/plain": [
       "array([ 1,  4,  6,  9, 20, 60])"
      ]
     },
     "execution_count": 45,
     "metadata": {},
     "output_type": "execute_result"
    }
   ],
   "source": [
    "np.reshape(a32,-1) #Converted 3D into 1D array"
   ]
  },
  {
   "cell_type": "code",
   "execution_count": null,
   "id": "7e2e0a21",
   "metadata": {},
   "outputs": [],
   "source": []
  },
  {
   "cell_type": "code",
   "execution_count": null,
   "id": "ba2f5288",
   "metadata": {},
   "outputs": [],
   "source": []
  },
  {
   "cell_type": "markdown",
   "id": "9a54426f",
   "metadata": {},
   "source": [
    "# Initialization of arrays"
   ]
  },
  {
   "cell_type": "markdown",
   "id": "23f847a2",
   "metadata": {},
   "source": [
    "**1.zeros()**\n",
    "\n"
   ]
  },
  {
   "cell_type": "code",
   "execution_count": 46,
   "id": "b8e67c99",
   "metadata": {},
   "outputs": [
    {
     "data": {
      "text/plain": [
       "array([[0., 0., 0., 0.],\n",
       "       [0., 0., 0., 0.],\n",
       "       [0., 0., 0., 0.]])"
      ]
     },
     "execution_count": 46,
     "metadata": {},
     "output_type": "execute_result"
    }
   ],
   "source": [
    "np.zeros((3,4))#default dtype = float in numpy"
   ]
  },
  {
   "cell_type": "code",
   "execution_count": 47,
   "id": "132cf0f9",
   "metadata": {},
   "outputs": [
    {
     "data": {
      "text/plain": [
       "array([[0, 0, 0, 0],\n",
       "       [0, 0, 0, 0],\n",
       "       [0, 0, 0, 0]])"
      ]
     },
     "execution_count": 47,
     "metadata": {},
     "output_type": "execute_result"
    }
   ],
   "source": [
    "np.zeros((3,4),dtype=\"int\")"
   ]
  },
  {
   "cell_type": "markdown",
   "id": "1773bf85",
   "metadata": {},
   "source": [
    "**2.ones()**"
   ]
  },
  {
   "cell_type": "code",
   "execution_count": 48,
   "id": "ff944c70",
   "metadata": {},
   "outputs": [
    {
     "data": {
      "text/plain": [
       "array([[1., 1.],\n",
       "       [1., 1.],\n",
       "       [1., 1.]])"
      ]
     },
     "execution_count": 48,
     "metadata": {},
     "output_type": "execute_result"
    }
   ],
   "source": [
    "np.ones((3,2))"
   ]
  },
  {
   "cell_type": "markdown",
   "id": "ce065412",
   "metadata": {},
   "source": [
    "**3.full()**"
   ]
  },
  {
   "cell_type": "code",
   "execution_count": 49,
   "id": "d8a9112f",
   "metadata": {},
   "outputs": [
    {
     "data": {
      "text/plain": [
       "array([[10, 10, 10],\n",
       "       [10, 10, 10]])"
      ]
     },
     "execution_count": 49,
     "metadata": {},
     "output_type": "execute_result"
    }
   ],
   "source": [
    "np.full((2,3),10)"
   ]
  },
  {
   "cell_type": "markdown",
   "id": "89b71235",
   "metadata": {},
   "source": [
    "# Accessing elements of ndarray"
   ]
  },
  {
   "cell_type": "markdown",
   "id": "8260f127",
   "metadata": {},
   "source": [
    "**1.1D Array**\n"
   ]
  },
  {
   "cell_type": "code",
   "execution_count": 50,
   "id": "f1cded99",
   "metadata": {},
   "outputs": [
    {
     "data": {
      "text/plain": [
       "array([22,  4,  6])"
      ]
     },
     "execution_count": 50,
     "metadata": {},
     "output_type": "execute_result"
    }
   ],
   "source": [
    "one=np.array([22,4,6])\n",
    "one"
   ]
  },
  {
   "cell_type": "code",
   "execution_count": 51,
   "id": "d58b76e8",
   "metadata": {},
   "outputs": [
    {
     "data": {
      "text/plain": [
       "6"
      ]
     },
     "execution_count": 51,
     "metadata": {},
     "output_type": "execute_result"
    }
   ],
   "source": [
    "one[2]"
   ]
  },
  {
   "cell_type": "markdown",
   "id": "4893f4de",
   "metadata": {},
   "source": [
    "**2.2D Array**\n"
   ]
  },
  {
   "cell_type": "code",
   "execution_count": 52,
   "id": "46d324b8",
   "metadata": {},
   "outputs": [
    {
     "data": {
      "text/plain": [
       "array([[22,  4,  6],\n",
       "       [25, 70, 90]])"
      ]
     },
     "execution_count": 52,
     "metadata": {},
     "output_type": "execute_result"
    }
   ],
   "source": [
    "two=np.array([[22,4,6],[25,70,90]])\n",
    "two"
   ]
  },
  {
   "cell_type": "code",
   "execution_count": 53,
   "id": "8452cde1",
   "metadata": {},
   "outputs": [
    {
     "data": {
      "text/plain": [
       "6"
      ]
     },
     "execution_count": 53,
     "metadata": {},
     "output_type": "execute_result"
    }
   ],
   "source": [
    "two[0,2]"
   ]
  },
  {
   "cell_type": "markdown",
   "id": "e4472200",
   "metadata": {},
   "source": [
    "**3.3D Array**"
   ]
  },
  {
   "cell_type": "code",
   "execution_count": 54,
   "id": "db84ad55",
   "metadata": {},
   "outputs": [
    {
     "data": {
      "text/plain": [
       "array([[[22,  4,  6],\n",
       "        [25, 70, 90]],\n",
       "\n",
       "       [[65, 45, 69],\n",
       "        [ 5,  7,  9]]])"
      ]
     },
     "execution_count": 54,
     "metadata": {},
     "output_type": "execute_result"
    }
   ],
   "source": [
    "three=np.array([[[22,4,6],[\n",
    "\n",
    "],[[65,45,69],[5,7,9]]])\n",
    "three"
   ]
  },
  {
   "cell_type": "code",
   "execution_count": 55,
   "id": "058074f0",
   "metadata": {},
   "outputs": [
    {
     "data": {
      "text/plain": [
       "70"
      ]
     },
     "execution_count": 55,
     "metadata": {},
     "output_type": "execute_result"
    }
   ],
   "source": [
    "three[0,1,1]"
   ]
  },
  {
   "cell_type": "markdown",
   "id": "42e5e024",
   "metadata": {},
   "source": [
    "# Slicing operation"
   ]
  },
  {
   "cell_type": "markdown",
   "id": "00b8410f",
   "metadata": {},
   "source": [
    "**1.1D Array**"
   ]
  },
  {
   "cell_type": "code",
   "execution_count": 56,
   "id": "eff6de0a",
   "metadata": {},
   "outputs": [
    {
     "data": {
      "text/plain": [
       "array([22,  4,  6,  4,  8,  9, 34, 67])"
      ]
     },
     "execution_count": 56,
     "metadata": {},
     "output_type": "execute_result"
    }
   ],
   "source": [
    "s133=np.array([22,4,6,4,8,9,34,67])\n",
    "s133"
   ]
  },
  {
   "cell_type": "code",
   "execution_count": 57,
   "id": "9ccfe45b",
   "metadata": {},
   "outputs": [
    {
     "data": {
      "text/plain": [
       "array([ 4,  4,  9, 67])"
      ]
     },
     "execution_count": 57,
     "metadata": {},
     "output_type": "execute_result"
    }
   ],
   "source": [
    "s133[1:8:2]"
   ]
  },
  {
   "cell_type": "markdown",
   "id": "3584332c",
   "metadata": {},
   "source": [
    "**2.2D Array**"
   ]
  },
  {
   "cell_type": "code",
   "execution_count": 58,
   "id": "87b662b4",
   "metadata": {},
   "outputs": [],
   "source": [
    "s2=np.array([[22,4,6,4,68],[25,70,90,34,45]])"
   ]
  },
  {
   "cell_type": "code",
   "execution_count": 59,
   "id": "e885fd0f",
   "metadata": {},
   "outputs": [
    {
     "data": {
      "text/plain": [
       "array([4, 4])"
      ]
     },
     "execution_count": 59,
     "metadata": {},
     "output_type": "execute_result"
    }
   ],
   "source": [
    "s2[0,1:6:2]"
   ]
  },
  {
   "cell_type": "code",
   "execution_count": 60,
   "id": "d89643f9",
   "metadata": {},
   "outputs": [
    {
     "data": {
      "text/plain": [
       "array([[ 6,  4, 68],\n",
       "       [90, 34, 45]])"
      ]
     },
     "execution_count": 60,
     "metadata": {},
     "output_type": "execute_result"
    }
   ],
   "source": [
    "s2[0:4,2:5] #2:5 is considered for slicing of both dimension\n"
   ]
  },
  {
   "cell_type": "markdown",
   "id": "26647dc9",
   "metadata": {},
   "source": [
    "**3.3D Array**"
   ]
  },
  {
   "cell_type": "code",
   "execution_count": 61,
   "id": "7d0cd1a3",
   "metadata": {},
   "outputs": [],
   "source": [
    "s3=np.array([[[22,4,6,56,67],[25,70,90,88,66]],[[65,45,69,47,79],[5,7,9,98,67]]])"
   ]
  },
  {
   "cell_type": "code",
   "execution_count": 62,
   "id": "72f58b91",
   "metadata": {},
   "outputs": [
    {
     "data": {
      "text/plain": [
       "array([25, 70, 90])"
      ]
     },
     "execution_count": 62,
     "metadata": {},
     "output_type": "execute_result"
    }
   ],
   "source": [
    "s3[0,1,0:3]"
   ]
  },
  {
   "cell_type": "code",
   "execution_count": 63,
   "id": "74ea57dd",
   "metadata": {},
   "outputs": [
    {
     "data": {
      "text/plain": [
       "array([[[22,  4,  6, 56],\n",
       "        [25, 70, 90, 88]],\n",
       "\n",
       "       [[65, 45, 69, 47],\n",
       "        [ 5,  7,  9, 98]]])"
      ]
     },
     "execution_count": 63,
     "metadata": {},
     "output_type": "execute_result"
    }
   ],
   "source": [
    "s3[0:4,0:2,0:4]"
   ]
  },
  {
   "cell_type": "markdown",
   "id": "cac9af4b",
   "metadata": {},
   "source": [
    "# Axis Attribute"
   ]
  },
  {
   "cell_type": "code",
   "execution_count": 64,
   "id": "29dbd031",
   "metadata": {},
   "outputs": [],
   "source": [
    "axs=np.array([[22,4,6,4],[25,7,0,3]])"
   ]
  },
  {
   "cell_type": "code",
   "execution_count": 65,
   "id": "74035023",
   "metadata": {},
   "outputs": [
    {
     "data": {
      "text/plain": [
       "array([[22,  4,  0,  3],\n",
       "       [25,  7,  6,  4]])"
      ]
     },
     "execution_count": 65,
     "metadata": {},
     "output_type": "execute_result"
    }
   ],
   "source": [
    "np.sort(axs,axis=0) #Columnwise sorting"
   ]
  },
  {
   "cell_type": "code",
   "execution_count": 66,
   "id": "cfa6d2d2",
   "metadata": {},
   "outputs": [
    {
     "data": {
      "text/plain": [
       "array([[ 4,  4,  6, 22],\n",
       "       [ 0,  3,  7, 25]])"
      ]
     },
     "execution_count": 66,
     "metadata": {},
     "output_type": "execute_result"
    }
   ],
   "source": [
    "np.sort(axs,axis=1) #Rowise sorting"
   ]
  },
  {
   "cell_type": "markdown",
   "id": "bd6a08b3",
   "metadata": {},
   "source": [
    "# Joining Arrays"
   ]
  },
  {
   "cell_type": "code",
   "execution_count": 67,
   "id": "3441461f",
   "metadata": {},
   "outputs": [
    {
     "data": {
      "text/plain": [
       "array([[0, 1, 2],\n",
       "       [3, 4, 5]])"
      ]
     },
     "execution_count": 67,
     "metadata": {},
     "output_type": "execute_result"
    }
   ],
   "source": [
    "fi=np.arange(6).reshape(2,3)\n",
    "fi"
   ]
  },
  {
   "cell_type": "code",
   "execution_count": 68,
   "id": "bb7c9785",
   "metadata": {},
   "outputs": [
    {
     "data": {
      "text/plain": [
       "array([[ 7,  8,  9],\n",
       "       [10, 11, 12]])"
      ]
     },
     "execution_count": 68,
     "metadata": {},
     "output_type": "execute_result"
    }
   ],
   "source": [
    "se=np.arange(7,13).reshape(2,3)\n",
    "se"
   ]
  },
  {
   "cell_type": "markdown",
   "id": "a5be6568",
   "metadata": {},
   "source": [
    "**1.Concatenation()**"
   ]
  },
  {
   "cell_type": "code",
   "execution_count": 69,
   "id": "a5f68d58",
   "metadata": {},
   "outputs": [
    {
     "data": {
      "text/plain": [
       "array([[ 0,  1,  2],\n",
       "       [ 3,  4,  5],\n",
       "       [ 7,  8,  9],\n",
       "       [10, 11, 12]])"
      ]
     },
     "execution_count": 69,
     "metadata": {},
     "output_type": "execute_result"
    }
   ],
   "source": [
    "np.concatenate((fi,se)) #concatenate gives single array"
   ]
  },
  {
   "cell_type": "code",
   "execution_count": 70,
   "id": "b2edc00f",
   "metadata": {},
   "outputs": [
    {
     "data": {
      "text/plain": [
       "array([[ 0,  1,  2,  7,  8,  9],\n",
       "       [ 3,  4,  5, 10, 11, 12]])"
      ]
     },
     "execution_count": 70,
     "metadata": {},
     "output_type": "execute_result"
    }
   ],
   "source": [
    "np.concatenate((fi,se),axis=1)#default axis=0"
   ]
  },
  {
   "cell_type": "markdown",
   "id": "7245a3a0",
   "metadata": {},
   "source": [
    "**2.Stack()**"
   ]
  },
  {
   "cell_type": "code",
   "execution_count": 71,
   "id": "d179aaec",
   "metadata": {},
   "outputs": [
    {
     "data": {
      "text/plain": [
       "array([[[ 0,  1,  2],\n",
       "        [ 3,  4,  5]],\n",
       "\n",
       "       [[ 7,  8,  9],\n",
       "        [10, 11, 12]]])"
      ]
     },
     "execution_count": 71,
     "metadata": {},
     "output_type": "execute_result"
    }
   ],
   "source": [
    "np.stack((fi,se)) #stack gives two different array"
   ]
  },
  {
   "cell_type": "code",
   "execution_count": 72,
   "id": "da29b90b",
   "metadata": {},
   "outputs": [
    {
     "data": {
      "text/plain": [
       "array([[[ 0,  1,  2],\n",
       "        [ 7,  8,  9]],\n",
       "\n",
       "       [[ 3,  4,  5],\n",
       "        [10, 11, 12]]])"
      ]
     },
     "execution_count": 72,
     "metadata": {},
     "output_type": "execute_result"
    }
   ],
   "source": [
    "np.stack((fi,se),axis=1)"
   ]
  },
  {
   "cell_type": "markdown",
   "id": "712b91a4",
   "metadata": {},
   "source": [
    "**3.vstack()**"
   ]
  },
  {
   "cell_type": "code",
   "execution_count": 73,
   "id": "434b02b3",
   "metadata": {},
   "outputs": [
    {
     "data": {
      "text/plain": [
       "array([[ 0,  1,  2],\n",
       "       [ 3,  4,  5],\n",
       "       [ 7,  8,  9],\n",
       "       [10, 11, 12]])"
      ]
     },
     "execution_count": 73,
     "metadata": {},
     "output_type": "execute_result"
    }
   ],
   "source": [
    "np.vstack((fi,se))#same as concatenate"
   ]
  },
  {
   "cell_type": "markdown",
   "id": "70eb3024",
   "metadata": {},
   "source": [
    "**4.hstack()**"
   ]
  },
  {
   "cell_type": "code",
   "execution_count": 74,
   "id": "19052bba",
   "metadata": {},
   "outputs": [
    {
     "data": {
      "text/plain": [
       "array([[ 0,  1,  2,  7,  8,  9],\n",
       "       [ 3,  4,  5, 10, 11, 12]])"
      ]
     },
     "execution_count": 74,
     "metadata": {},
     "output_type": "execute_result"
    }
   ],
   "source": [
    "np.hstack((fi,se))"
   ]
  },
  {
   "cell_type": "markdown",
   "id": "e2a0a503",
   "metadata": {},
   "source": [
    "**5.dstack**"
   ]
  },
  {
   "cell_type": "code",
   "execution_count": 75,
   "id": "ee56647a",
   "metadata": {},
   "outputs": [
    {
     "data": {
      "text/plain": [
       "array([[[ 0,  7],\n",
       "        [ 1,  8],\n",
       "        [ 2,  9]],\n",
       "\n",
       "       [[ 3, 10],\n",
       "        [ 4, 11],\n",
       "        [ 5, 12]]])"
      ]
     },
     "execution_count": 75,
     "metadata": {},
     "output_type": "execute_result"
    }
   ],
   "source": [
    "np.dstack((fi,se))#depth"
   ]
  },
  {
   "cell_type": "markdown",
   "id": "898b43b3",
   "metadata": {},
   "source": [
    "# Splitting"
   ]
  },
  {
   "cell_type": "markdown",
   "id": "3be401da",
   "metadata": {},
   "source": [
    "**1.array_split()**"
   ]
  },
  {
   "cell_type": "code",
   "execution_count": 76,
   "id": "b2161aa1",
   "metadata": {},
   "outputs": [
    {
     "data": {
      "text/plain": [
       "array([ 1,  2,  3,  4,  5,  6,  7,  8,  9, 10, 11, 12])"
      ]
     },
     "execution_count": 76,
     "metadata": {},
     "output_type": "execute_result"
    }
   ],
   "source": [
    "s1=np.arange(1,13)\n",
    "s1"
   ]
  },
  {
   "cell_type": "code",
   "execution_count": 77,
   "id": "3dffdeca",
   "metadata": {},
   "outputs": [
    {
     "data": {
      "text/plain": [
       "[array([1, 2, 3, 4, 5, 6]), array([ 7,  8,  9, 10, 11, 12])]"
      ]
     },
     "execution_count": 77,
     "metadata": {},
     "output_type": "execute_result"
    }
   ],
   "source": [
    "s11=np.array_split(s1,2)\n",
    "s11"
   ]
  },
  {
   "cell_type": "code",
   "execution_count": 78,
   "id": "b47251bf",
   "metadata": {},
   "outputs": [
    {
     "data": {
      "text/plain": [
       "array([ 7,  8,  9, 10, 11, 12])"
      ]
     },
     "execution_count": 78,
     "metadata": {},
     "output_type": "execute_result"
    }
   ],
   "source": [
    "s11[1]"
   ]
  },
  {
   "cell_type": "code",
   "execution_count": 79,
   "id": "84d3a479",
   "metadata": {},
   "outputs": [
    {
     "data": {
      "text/plain": [
       "[array([1, 2]),\n",
       " array([3, 4]),\n",
       " array([5, 6]),\n",
       " array([7]),\n",
       " array([8]),\n",
       " array([9]),\n",
       " array([10]),\n",
       " array([11]),\n",
       " array([12])]"
      ]
     },
     "execution_count": 79,
     "metadata": {},
     "output_type": "execute_result"
    }
   ],
   "source": [
    "s12=np.array_split(s1,9)\n",
    "s12"
   ]
  },
  {
   "cell_type": "markdown",
   "id": "1cd99867",
   "metadata": {},
   "source": [
    "**2.hsplit()**"
   ]
  },
  {
   "cell_type": "code",
   "execution_count": 80,
   "id": "bedb5833",
   "metadata": {},
   "outputs": [],
   "source": [
    "hs=np.array([[1,2,3,4,5],[6,7,8,9,10]])"
   ]
  },
  {
   "cell_type": "code",
   "execution_count": 81,
   "id": "6285e802",
   "metadata": {},
   "outputs": [
    {
     "data": {
      "text/plain": [
       "[array([[1],\n",
       "        [6]]),\n",
       " array([[2],\n",
       "        [7]]),\n",
       " array([[3],\n",
       "        [8]]),\n",
       " array([[4],\n",
       "        [9]]),\n",
       " array([[ 5],\n",
       "        [10]])]"
      ]
     },
     "execution_count": 81,
     "metadata": {},
     "output_type": "execute_result"
    }
   ],
   "source": [
    "np.hsplit(hs,5)"
   ]
  },
  {
   "cell_type": "markdown",
   "id": "6b239429",
   "metadata": {},
   "source": [
    "**3.vsplit()**"
   ]
  },
  {
   "cell_type": "code",
   "execution_count": 82,
   "id": "c1b76097",
   "metadata": {},
   "outputs": [
    {
     "data": {
      "text/plain": [
       "[array([[1, 2, 3, 4, 5]]), array([[ 6,  7,  8,  9, 10]])]"
      ]
     },
     "execution_count": 82,
     "metadata": {},
     "output_type": "execute_result"
    }
   ],
   "source": [
    "np.vsplit(hs,2)"
   ]
  },
  {
   "cell_type": "markdown",
   "id": "216f4578",
   "metadata": {},
   "source": [
    "# Adding, Removing & sorting"
   ]
  },
  {
   "cell_type": "markdown",
   "id": "d148afb1",
   "metadata": {},
   "source": [
    "**1.Insert()**"
   ]
  },
  {
   "cell_type": "code",
   "execution_count": 83,
   "id": "f62ce6df",
   "metadata": {},
   "outputs": [
    {
     "data": {
      "text/plain": [
       "array([1, 4, 8])"
      ]
     },
     "execution_count": 83,
     "metadata": {},
     "output_type": "execute_result"
    }
   ],
   "source": [
    "ara=np.array([1,4,8]) #Adds the element in between\n",
    "ara"
   ]
  },
  {
   "cell_type": "code",
   "execution_count": 84,
   "id": "151859df",
   "metadata": {},
   "outputs": [
    {
     "data": {
      "text/plain": [
       "array([1, 2, 4, 8])"
      ]
     },
     "execution_count": 84,
     "metadata": {},
     "output_type": "execute_result"
    }
   ],
   "source": [
    "ara1=np.insert(ara,1,2)\n",
    "ara1"
   ]
  },
  {
   "cell_type": "markdown",
   "id": "e58afdaf",
   "metadata": {},
   "source": [
    "**2.Append()**"
   ]
  },
  {
   "cell_type": "code",
   "execution_count": 85,
   "id": "2dab3b78",
   "metadata": {},
   "outputs": [
    {
     "data": {
      "text/plain": [
       "array([1, 4, 8, 5])"
      ]
     },
     "execution_count": 85,
     "metadata": {},
     "output_type": "execute_result"
    }
   ],
   "source": [
    "ara2=np.append(ara,5) #Adds the element in last\n",
    "ara2"
   ]
  },
  {
   "cell_type": "markdown",
   "id": "af894585",
   "metadata": {},
   "source": [
    "**3.Delete()**"
   ]
  },
  {
   "cell_type": "code",
   "execution_count": 86,
   "id": "d27aed53",
   "metadata": {},
   "outputs": [
    {
     "data": {
      "text/plain": [
       "array([1, 8, 5])"
      ]
     },
     "execution_count": 86,
     "metadata": {},
     "output_type": "execute_result"
    }
   ],
   "source": [
    "ara3=np.delete(ara2, 1)\n",
    "ara3"
   ]
  },
  {
   "cell_type": "markdown",
   "id": "6b68968d",
   "metadata": {},
   "source": [
    "**4.Sorting()**"
   ]
  },
  {
   "cell_type": "code",
   "execution_count": 87,
   "id": "74d1a719",
   "metadata": {},
   "outputs": [
    {
     "data": {
      "text/plain": [
       "array([10, 18, 16,  5,  4,  5, 13, 17, 17, 12])"
      ]
     },
     "execution_count": 87,
     "metadata": {},
     "output_type": "execute_result"
    }
   ],
   "source": [
    "arr4=np.random.randint(0,20,10)\n",
    "arr4"
   ]
  },
  {
   "cell_type": "code",
   "execution_count": 88,
   "id": "d94ce830",
   "metadata": {},
   "outputs": [
    {
     "data": {
      "text/plain": [
       "array([ 4,  5,  5, 10, 12, 13, 16, 17, 17, 18])"
      ]
     },
     "execution_count": 88,
     "metadata": {},
     "output_type": "execute_result"
    }
   ],
   "source": [
    "np.sort(arr4)"
   ]
  },
  {
   "cell_type": "markdown",
   "id": "989ba3fe",
   "metadata": {},
   "source": [
    "# Copy() & View()"
   ]
  },
  {
   "cell_type": "markdown",
   "id": "312906cb",
   "metadata": {},
   "source": [
    "**1.Copy()**"
   ]
  },
  {
   "cell_type": "code",
   "execution_count": 89,
   "id": "fe0fa699",
   "metadata": {},
   "outputs": [
    {
     "data": {
      "text/plain": [
       "array([1, 2, 3, 4, 5])"
      ]
     },
     "execution_count": 89,
     "metadata": {},
     "output_type": "execute_result"
    }
   ],
   "source": [
    "cc=np.array([1,2,3,4,5])     \n",
    "#copy()=Changes are not reflected which are made in main array and vice versa..it is just a copy\n",
    "cc"
   ]
  },
  {
   "cell_type": "code",
   "execution_count": 90,
   "id": "150882a4",
   "metadata": {},
   "outputs": [
    {
     "data": {
      "text/plain": [
       "array([1, 2, 3, 4, 5])"
      ]
     },
     "execution_count": 90,
     "metadata": {},
     "output_type": "execute_result"
    }
   ],
   "source": [
    "cc1=cc.copy()\n",
    "cc1"
   ]
  },
  {
   "cell_type": "markdown",
   "id": "974774da",
   "metadata": {},
   "source": [
    "**2.View()**"
   ]
  },
  {
   "cell_type": "code",
   "execution_count": 91,
   "id": "76c01ac7",
   "metadata": {},
   "outputs": [
    {
     "data": {
      "text/plain": [
       "array([1, 2, 3, 4, 5])"
      ]
     },
     "execution_count": 91,
     "metadata": {},
     "output_type": "execute_result"
    }
   ],
   "source": [
    "vieww=cc.view()\n",
    "vieww"
   ]
  },
  {
   "cell_type": "code",
   "execution_count": 92,
   "id": "5b793ef8",
   "metadata": {},
   "outputs": [],
   "source": [
    "cc[0]=0"
   ]
  },
  {
   "cell_type": "code",
   "execution_count": 93,
   "id": "8b5f62ef",
   "metadata": {},
   "outputs": [
    {
     "data": {
      "text/plain": [
       "array([0, 2, 3, 4, 5])"
      ]
     },
     "execution_count": 93,
     "metadata": {},
     "output_type": "execute_result"
    }
   ],
   "source": [
    "vieww    #view()=Changes are reflected which are made in main array and vice versa"
   ]
  },
  {
   "cell_type": "code",
   "execution_count": 94,
   "id": "72fa5fe6",
   "metadata": {},
   "outputs": [
    {
     "data": {
      "text/plain": [
       "array([9, 2, 3, 4, 5])"
      ]
     },
     "execution_count": 94,
     "metadata": {},
     "output_type": "execute_result"
    }
   ],
   "source": [
    "vieww[0]=9\n",
    "vieww"
   ]
  },
  {
   "cell_type": "code",
   "execution_count": 95,
   "id": "d907505e",
   "metadata": {},
   "outputs": [
    {
     "data": {
      "text/plain": [
       "array([9, 2, 3, 4, 5])"
      ]
     },
     "execution_count": 95,
     "metadata": {},
     "output_type": "execute_result"
    }
   ],
   "source": [
    "cc"
   ]
  },
  {
   "cell_type": "code",
   "execution_count": 96,
   "id": "e06cbcf9",
   "metadata": {},
   "outputs": [
    {
     "data": {
      "text/plain": [
       "array([1, 2, 3, 4, 5])"
      ]
     },
     "execution_count": 96,
     "metadata": {},
     "output_type": "execute_result"
    }
   ],
   "source": [
    "cc1"
   ]
  },
  {
   "cell_type": "markdown",
   "id": "06536c1b",
   "metadata": {},
   "source": [
    "# Searching an element in a given array"
   ]
  },
  {
   "cell_type": "markdown",
   "id": "925cffd0",
   "metadata": {},
   "source": [
    "**1.where()**"
   ]
  },
  {
   "cell_type": "code",
   "execution_count": 97,
   "id": "04ef37b9",
   "metadata": {},
   "outputs": [
    {
     "data": {
      "text/plain": [
       "array([ 1,  2,  3,  4,  5,  6,  7,  8,  9, 10, 11, 12, 13, 14, 15, 16, 17,\n",
       "       18, 19, 20, 21, 22, 23, 24])"
      ]
     },
     "execution_count": 97,
     "metadata": {},
     "output_type": "execute_result"
    }
   ],
   "source": [
    "eve=np.arange(1,25)\n",
    "eve\n"
   ]
  },
  {
   "cell_type": "code",
   "execution_count": 98,
   "id": "5a04f640",
   "metadata": {},
   "outputs": [
    {
     "data": {
      "text/plain": [
       "(array([ 1,  3,  5,  7,  9, 11, 13, 15, 17, 19, 21, 23], dtype=int64),)"
      ]
     },
     "execution_count": 98,
     "metadata": {},
     "output_type": "execute_result"
    }
   ],
   "source": [
    "np.where(eve%2==0)"
   ]
  },
  {
   "cell_type": "markdown",
   "id": "4a5bce19",
   "metadata": {},
   "source": [
    "**2.searchsorted()**"
   ]
  },
  {
   "cell_type": "code",
   "execution_count": 99,
   "id": "82a655d4",
   "metadata": {},
   "outputs": [],
   "source": [
    "ss=np.array([3,6,7,9,11,14,18,19])"
   ]
  },
  {
   "cell_type": "code",
   "execution_count": 100,
   "id": "dedbd939",
   "metadata": {},
   "outputs": [
    {
     "data": {
      "text/plain": [
       "array([1], dtype=int64)"
      ]
     },
     "execution_count": 100,
     "metadata": {},
     "output_type": "execute_result"
    }
   ],
   "source": [
    "np.searchsorted(ss,[5]) #gives the position whre the array is to be inserted"
   ]
  },
  {
   "cell_type": "code",
   "execution_count": 101,
   "id": "ea8dadca",
   "metadata": {},
   "outputs": [
    {
     "data": {
      "text/plain": [
       "array([1, 0, 5, 6], dtype=int64)"
      ]
     },
     "execution_count": 101,
     "metadata": {},
     "output_type": "execute_result"
    }
   ],
   "source": [
    "np.searchsorted(ss,[5,2,12,17])"
   ]
  },
  {
   "cell_type": "markdown",
   "id": "4d77bb8d",
   "metadata": {},
   "source": [
    "# Sorting in array of different data types"
   ]
  },
  {
   "cell_type": "code",
   "execution_count": 102,
   "id": "57a316a2",
   "metadata": {},
   "outputs": [],
   "source": [
    "dd=np.dtype([('name','S10'),('Perc',float)])"
   ]
  },
  {
   "cell_type": "code",
   "execution_count": 103,
   "id": "e56dc1d5",
   "metadata": {},
   "outputs": [],
   "source": [
    "dd1=np.array([('mit',90.2),('tima',50.4),('lom',60.9)],dtype=dd)"
   ]
  },
  {
   "cell_type": "code",
   "execution_count": 104,
   "id": "acf180c2",
   "metadata": {},
   "outputs": [
    {
     "data": {
      "text/plain": [
       "array([(b'lom', 60.9), (b'mit', 90.2), (b'tima', 50.4)],\n",
       "      dtype=[('name', 'S10'), ('Perc', '<f8')])"
      ]
     },
     "execution_count": 104,
     "metadata": {},
     "output_type": "execute_result"
    }
   ],
   "source": [
    "np.sort(dd1,order='name')"
   ]
  },
  {
   "cell_type": "code",
   "execution_count": 105,
   "id": "86810ad1",
   "metadata": {},
   "outputs": [
    {
     "data": {
      "text/plain": [
       "array([(b'tima', 50.4), (b'lom', 60.9), (b'mit', 90.2)],\n",
       "      dtype=[('name', 'S10'), ('Perc', '<f8')])"
      ]
     },
     "execution_count": 105,
     "metadata": {},
     "output_type": "execute_result"
    }
   ],
   "source": [
    "np.sort(dd1,order='Perc')"
   ]
  },
  {
   "cell_type": "markdown",
   "id": "1b51593a",
   "metadata": {},
   "source": [
    "# Arithmetic Operations"
   ]
  },
  {
   "cell_type": "code",
   "execution_count": 106,
   "id": "13ae34f9",
   "metadata": {},
   "outputs": [],
   "source": [
    "a1=np.array([[1,2,3],[4,5,6],[7,8,9]])"
   ]
  },
  {
   "cell_type": "code",
   "execution_count": 107,
   "id": "2e0a909e",
   "metadata": {},
   "outputs": [],
   "source": [
    "b1=np.array([[6,3,1],[9,3,4],[1,3,5]])"
   ]
  },
  {
   "cell_type": "code",
   "execution_count": 108,
   "id": "f4e9d3e4",
   "metadata": {},
   "outputs": [],
   "source": [
    "c1=np.array([[2,3,4]])"
   ]
  },
  {
   "cell_type": "code",
   "execution_count": 109,
   "id": "579718d2",
   "metadata": {},
   "outputs": [],
   "source": [
    "d1=np.array([2])"
   ]
  },
  {
   "cell_type": "code",
   "execution_count": 110,
   "id": "dee647f6",
   "metadata": {},
   "outputs": [],
   "source": [
    "e1=np.array([2,3])"
   ]
  },
  {
   "cell_type": "code",
   "execution_count": 111,
   "id": "7e4933ad",
   "metadata": {},
   "outputs": [
    {
     "data": {
      "text/plain": [
       "array([[ 7,  5,  4],\n",
       "       [13,  8, 10],\n",
       "       [ 8, 11, 14]])"
      ]
     },
     "execution_count": 111,
     "metadata": {},
     "output_type": "execute_result"
    }
   ],
   "source": [
    "np.add(a1,b1)"
   ]
  },
  {
   "cell_type": "code",
   "execution_count": 112,
   "id": "69b2cf45",
   "metadata": {},
   "outputs": [
    {
     "data": {
      "text/plain": [
       "array([[ 3,  5,  7],\n",
       "       [ 6,  8, 10],\n",
       "       [ 9, 11, 13]])"
      ]
     },
     "execution_count": 112,
     "metadata": {},
     "output_type": "execute_result"
    }
   ],
   "source": [
    "np.add(a1,c1)"
   ]
  },
  {
   "cell_type": "code",
   "execution_count": 113,
   "id": "8beae361",
   "metadata": {},
   "outputs": [
    {
     "data": {
      "text/plain": [
       "array([[ 3,  4,  5],\n",
       "       [ 6,  7,  8],\n",
       "       [ 9, 10, 11]])"
      ]
     },
     "execution_count": 113,
     "metadata": {},
     "output_type": "execute_result"
    }
   ],
   "source": [
    "np.add(a1,d1)"
   ]
  },
  {
   "cell_type": "markdown",
   "id": "297c807b",
   "metadata": {},
   "source": [
    "np.add(a1,e1) \n",
    "#second array should have atleast one dimension and he no. of elements in that dim should be same"
   ]
  },
  {
   "cell_type": "code",
   "execution_count": 114,
   "id": "09bb7718",
   "metadata": {},
   "outputs": [
    {
     "data": {
      "text/plain": [
       "array([[-5, -1,  2],\n",
       "       [-5,  2,  2],\n",
       "       [ 6,  5,  4]])"
      ]
     },
     "execution_count": 114,
     "metadata": {},
     "output_type": "execute_result"
    }
   ],
   "source": [
    "np.subtract(a1,b1)"
   ]
  },
  {
   "cell_type": "code",
   "execution_count": 115,
   "id": "c4e23911",
   "metadata": {},
   "outputs": [
    {
     "data": {
      "text/plain": [
       "array([[ 6,  6,  3],\n",
       "       [36, 15, 24],\n",
       "       [ 7, 24, 45]])"
      ]
     },
     "execution_count": 115,
     "metadata": {},
     "output_type": "execute_result"
    }
   ],
   "source": [
    "np.multiply(a1,b1)"
   ]
  },
  {
   "cell_type": "code",
   "execution_count": 116,
   "id": "9d4e8564",
   "metadata": {},
   "outputs": [
    {
     "data": {
      "text/plain": [
       "array([[0.16666667, 0.66666667, 3.        ],\n",
       "       [0.44444444, 1.66666667, 1.5       ],\n",
       "       [7.        , 2.66666667, 1.8       ]])"
      ]
     },
     "execution_count": 116,
     "metadata": {},
     "output_type": "execute_result"
    }
   ],
   "source": [
    "np.divide(a1,b1)"
   ]
  },
  {
   "cell_type": "code",
   "execution_count": 117,
   "id": "6afed1a1",
   "metadata": {},
   "outputs": [
    {
     "data": {
      "text/plain": [
       "array([[1, 0, 1],\n",
       "       [0, 1, 0],\n",
       "       [1, 0, 1]])"
      ]
     },
     "execution_count": 117,
     "metadata": {},
     "output_type": "execute_result"
    }
   ],
   "source": [
    "np.mod(a1,d1)"
   ]
  },
  {
   "cell_type": "code",
   "execution_count": 118,
   "id": "34b5af48",
   "metadata": {},
   "outputs": [
    {
     "data": {
      "text/plain": [
       "array([[ 1,  4,  9],\n",
       "       [16, 25, 36],\n",
       "       [49, 64, 81]])"
      ]
     },
     "execution_count": 118,
     "metadata": {},
     "output_type": "execute_result"
    }
   ],
   "source": [
    "np.power(a1,d1)"
   ]
  },
  {
   "cell_type": "code",
   "execution_count": 119,
   "id": "d185a889",
   "metadata": {},
   "outputs": [
    {
     "data": {
      "text/plain": [
       "array([[1, 0, 0],\n",
       "       [0, 0, 0],\n",
       "       [0, 0, 0]])"
      ]
     },
     "execution_count": 119,
     "metadata": {},
     "output_type": "execute_result"
    }
   ],
   "source": [
    "np.reciprocal(a1)"
   ]
  },
  {
   "cell_type": "code",
   "execution_count": 120,
   "id": "21a0c82b",
   "metadata": {},
   "outputs": [],
   "source": [
    "f1=np.array([2+3j,3-8j,7+3j])"
   ]
  },
  {
   "cell_type": "code",
   "execution_count": 121,
   "id": "04de82d7",
   "metadata": {},
   "outputs": [
    {
     "data": {
      "text/plain": [
       "array([2., 3., 7.])"
      ]
     },
     "execution_count": 121,
     "metadata": {},
     "output_type": "execute_result"
    }
   ],
   "source": [
    "np.real(f1)"
   ]
  },
  {
   "cell_type": "code",
   "execution_count": 122,
   "id": "46e3efb8",
   "metadata": {},
   "outputs": [
    {
     "data": {
      "text/plain": [
       "array([ 3., -8.,  3.])"
      ]
     },
     "execution_count": 122,
     "metadata": {},
     "output_type": "execute_result"
    }
   ],
   "source": [
    "np.imag(f1)"
   ]
  },
  {
   "cell_type": "code",
   "execution_count": 123,
   "id": "6fa597ad",
   "metadata": {},
   "outputs": [
    {
     "data": {
      "text/plain": [
       "array([2.-3.j, 3.+8.j, 7.-3.j])"
      ]
     },
     "execution_count": 123,
     "metadata": {},
     "output_type": "execute_result"
    }
   ],
   "source": [
    "np.conjugate(f1)"
   ]
  },
  {
   "cell_type": "markdown",
   "id": "b193416d",
   "metadata": {},
   "source": [
    "# Statistical Functions"
   ]
  },
  {
   "cell_type": "code",
   "execution_count": 124,
   "id": "38d56aa7",
   "metadata": {},
   "outputs": [],
   "source": [
    "sf=np.array([[6,3,2],[9,3,4],[8,3,5]])"
   ]
  },
  {
   "cell_type": "code",
   "execution_count": 125,
   "id": "a69e7707",
   "metadata": {},
   "outputs": [
    {
     "data": {
      "text/plain": [
       "2"
      ]
     },
     "execution_count": 125,
     "metadata": {},
     "output_type": "execute_result"
    }
   ],
   "source": [
    "np.amin(sf)"
   ]
  },
  {
   "cell_type": "code",
   "execution_count": 126,
   "id": "93e84909",
   "metadata": {},
   "outputs": [
    {
     "data": {
      "text/plain": [
       "9"
      ]
     },
     "execution_count": 126,
     "metadata": {},
     "output_type": "execute_result"
    }
   ],
   "source": [
    "np.amax(sf)"
   ]
  },
  {
   "cell_type": "code",
   "execution_count": 127,
   "id": "bcd18fe2",
   "metadata": {},
   "outputs": [
    {
     "data": {
      "text/plain": [
       "array([6, 3, 2])"
      ]
     },
     "execution_count": 127,
     "metadata": {},
     "output_type": "execute_result"
    }
   ],
   "source": [
    "np.amin((sf),axis=0)"
   ]
  },
  {
   "cell_type": "code",
   "execution_count": 128,
   "id": "9de139f1",
   "metadata": {},
   "outputs": [
    {
     "data": {
      "text/plain": [
       "4.777777777777778"
      ]
     },
     "execution_count": 128,
     "metadata": {},
     "output_type": "execute_result"
    }
   ],
   "source": [
    "np.average(sf)"
   ]
  },
  {
   "cell_type": "code",
   "execution_count": 129,
   "id": "466244bd",
   "metadata": {},
   "outputs": [
    {
     "data": {
      "text/plain": [
       "array([3.66666667, 5.33333333, 5.33333333])"
      ]
     },
     "execution_count": 129,
     "metadata": {},
     "output_type": "execute_result"
    }
   ],
   "source": [
    "np.average((sf),axis=1)"
   ]
  },
  {
   "cell_type": "code",
   "execution_count": 130,
   "id": "f4d605c8",
   "metadata": {},
   "outputs": [
    {
     "data": {
      "text/plain": [
       "[1, 2, 3]"
      ]
     },
     "execution_count": 130,
     "metadata": {},
     "output_type": "execute_result"
    }
   ],
   "source": [
    "w=[1,2,3]\n",
    "w"
   ]
  },
  {
   "cell_type": "code",
   "execution_count": 131,
   "id": "b43309f3",
   "metadata": {},
   "outputs": [],
   "source": [
    "a1=np.array([[1,2,3],[4,5,6],[7,8,9]])"
   ]
  },
  {
   "cell_type": "code",
   "execution_count": 132,
   "id": "e526cc73",
   "metadata": {},
   "outputs": [
    {
     "data": {
      "text/plain": [
       "array([2.33333333, 5.33333333, 8.33333333])"
      ]
     },
     "execution_count": 132,
     "metadata": {},
     "output_type": "execute_result"
    }
   ],
   "source": [
    "np.average(a1,weights=w,axis=1) #weight average"
   ]
  },
  {
   "cell_type": "code",
   "execution_count": 133,
   "id": "5b38acdd",
   "metadata": {},
   "outputs": [
    {
     "data": {
      "text/plain": [
       "5.0"
      ]
     },
     "execution_count": 133,
     "metadata": {},
     "output_type": "execute_result"
    }
   ],
   "source": [
    "np.mean(a1)"
   ]
  },
  {
   "cell_type": "code",
   "execution_count": 134,
   "id": "ae0cb895",
   "metadata": {},
   "outputs": [],
   "source": [
    "m=np.array([1,2,3,4,5,6,7,8])"
   ]
  },
  {
   "cell_type": "code",
   "execution_count": 135,
   "id": "214f725c",
   "metadata": {},
   "outputs": [
    {
     "data": {
      "text/plain": [
       "4.5"
      ]
     },
     "execution_count": 135,
     "metadata": {},
     "output_type": "execute_result"
    }
   ],
   "source": [
    "np.median(m)"
   ]
  },
  {
   "cell_type": "code",
   "execution_count": 136,
   "id": "02cc8684",
   "metadata": {},
   "outputs": [
    {
     "data": {
      "text/plain": [
       "5.283950617283951"
      ]
     },
     "execution_count": 136,
     "metadata": {},
     "output_type": "execute_result"
    }
   ],
   "source": [
    "np.var(sf) #variance"
   ]
  },
  {
   "cell_type": "code",
   "execution_count": 137,
   "id": "529b4e12",
   "metadata": {},
   "outputs": [
    {
     "data": {
      "text/plain": [
       "2.298684540619689"
      ]
     },
     "execution_count": 137,
     "metadata": {},
     "output_type": "execute_result"
    }
   ],
   "source": [
    "np.std(sf) #standard deviation"
   ]
  },
  {
   "cell_type": "markdown",
   "id": "cf6b5dbb",
   "metadata": {},
   "source": [
    "# Aggregation"
   ]
  },
  {
   "cell_type": "markdown",
   "id": "58496f42",
   "metadata": {},
   "source": [
    "**1.sum()**"
   ]
  },
  {
   "cell_type": "code",
   "execution_count": 138,
   "id": "fe2bfb68",
   "metadata": {},
   "outputs": [],
   "source": [
    "summ=np.array([[1,2,3],[4,5,6],[7,8,9]])"
   ]
  },
  {
   "cell_type": "code",
   "execution_count": 139,
   "id": "3adf230c",
   "metadata": {},
   "outputs": [
    {
     "data": {
      "text/plain": [
       "45"
      ]
     },
     "execution_count": 139,
     "metadata": {},
     "output_type": "execute_result"
    }
   ],
   "source": [
    "summ.sum()"
   ]
  },
  {
   "cell_type": "code",
   "execution_count": 140,
   "id": "5b46308e",
   "metadata": {},
   "outputs": [
    {
     "data": {
      "text/plain": [
       "array([12, 15, 18])"
      ]
     },
     "execution_count": 140,
     "metadata": {},
     "output_type": "execute_result"
    }
   ],
   "source": [
    "summ.sum(axis=0)"
   ]
  },
  {
   "cell_type": "markdown",
   "id": "9c0f5610",
   "metadata": {},
   "source": [
    "**2.prod()**"
   ]
  },
  {
   "cell_type": "code",
   "execution_count": 141,
   "id": "481d74be",
   "metadata": {},
   "outputs": [
    {
     "data": {
      "text/plain": [
       "362880"
      ]
     },
     "execution_count": 141,
     "metadata": {},
     "output_type": "execute_result"
    }
   ],
   "source": [
    "summ.prod()"
   ]
  },
  {
   "cell_type": "markdown",
   "id": "3255d888",
   "metadata": {},
   "source": [
    "# Unique "
   ]
  },
  {
   "cell_type": "markdown",
   "id": "d73af6c1",
   "metadata": {},
   "source": [
    "**1.unique()**"
   ]
  },
  {
   "cell_type": "code",
   "execution_count": 142,
   "id": "dda53f2a",
   "metadata": {},
   "outputs": [],
   "source": [
    "u=np.array([1,2,3,5,6,8,3,4,5,6,7,8,9])"
   ]
  },
  {
   "cell_type": "code",
   "execution_count": 143,
   "id": "b9283024",
   "metadata": {},
   "outputs": [
    {
     "data": {
      "text/plain": [
       "array([1, 2, 3, 4, 5, 6, 7, 8, 9])"
      ]
     },
     "execution_count": 143,
     "metadata": {},
     "output_type": "execute_result"
    }
   ],
   "source": [
    "np.unique(u)"
   ]
  },
  {
   "cell_type": "code",
   "execution_count": 144,
   "id": "d6ccd5c2",
   "metadata": {},
   "outputs": [],
   "source": [
    "u1=np.array([[1,2,3,2,3],[4,5,6,5,5],[7,8,9,7,9]])"
   ]
  },
  {
   "cell_type": "markdown",
   "id": "2c6a9a4b",
   "metadata": {},
   "source": [
    "#  Array Creation: Intrinsic Numpy array creation objects"
   ]
  },
  {
   "cell_type": "code",
   "execution_count": 145,
   "id": "e0ea9a5d",
   "metadata": {},
   "outputs": [],
   "source": [
    "lspace=np.array([[1,2,3],[4,5,6],[7,8,9]])"
   ]
  },
  {
   "cell_type": "code",
   "execution_count": 146,
   "id": "462a17e4",
   "metadata": {},
   "outputs": [
    {
     "data": {
      "text/plain": [
       "array([[0., 0., 0.],\n",
       "       [0., 0., 0.]])"
      ]
     },
     "execution_count": 146,
     "metadata": {},
     "output_type": "execute_result"
    }
   ],
   "source": [
    "emp=np.empty([2,3])\n",
    "emp"
   ]
  },
  {
   "cell_type": "code",
   "execution_count": 147,
   "id": "fabbfb7f",
   "metadata": {},
   "outputs": [
    {
     "data": {
      "text/plain": [
       "array([[5, 5, 5],\n",
       "       [5, 5, 5]])"
      ]
     },
     "execution_count": 147,
     "metadata": {},
     "output_type": "execute_result"
    }
   ],
   "source": [
    "emp1=np.full([2,3],5)\n",
    "emp1"
   ]
  },
  {
   "cell_type": "code",
   "execution_count": 148,
   "id": "83103a5a",
   "metadata": {},
   "outputs": [
    {
     "data": {
      "text/plain": [
       "array([[          0,           0, -1257436224],\n",
       "       [        206, -1257435136,         206],\n",
       "       [-1257432960,         206,     7209065]])"
      ]
     },
     "execution_count": 148,
     "metadata": {},
     "output_type": "execute_result"
    }
   ],
   "source": [
    "emp_like=np.empty_like(lspace)  #takes size of lspace array and makes an empty array\n",
    "emp_like                      "
   ]
  },
  {
   "cell_type": "code",
   "execution_count": 149,
   "id": "163c4238",
   "metadata": {},
   "outputs": [
    {
     "data": {
      "text/plain": [
       "array([[4.38631758e-312, 2.47032823e-322, 0.00000000e+000],\n",
       "       [0.00000000e+000, 2.37663529e-312, 5.74084271e+169],\n",
       "       [4.22374550e-090, 5.98633990e+174, 5.41617681e-067],\n",
       "       [1.54567798e+185, 3.99910963e+252, 4.93432906e+257]])"
      ]
     },
     "execution_count": 149,
     "metadata": {},
     "output_type": "execute_result"
    }
   ],
   "source": [
    "emptyy=np.empty([4,3])\n",
    "emptyy"
   ]
  },
  {
   "cell_type": "code",
   "execution_count": 150,
   "id": "c7f48359",
   "metadata": {},
   "outputs": [
    {
     "data": {
      "text/plain": [
       "array([[4., 4., 4.],\n",
       "       [4., 4., 4.],\n",
       "       [4., 4., 4.],\n",
       "       [4., 4., 4.]])"
      ]
     },
     "execution_count": 150,
     "metadata": {},
     "output_type": "execute_result"
    }
   ],
   "source": [
    "emptyy.fill(4)\n",
    "emptyy"
   ]
  },
  {
   "cell_type": "code",
   "execution_count": 151,
   "id": "30f51e81",
   "metadata": {},
   "outputs": [
    {
     "data": {
      "text/plain": [
       "array([[1., 0., 0., 0., 0., 0., 0., 0., 0., 0.],\n",
       "       [0., 1., 0., 0., 0., 0., 0., 0., 0., 0.],\n",
       "       [0., 0., 1., 0., 0., 0., 0., 0., 0., 0.],\n",
       "       [0., 0., 0., 1., 0., 0., 0., 0., 0., 0.],\n",
       "       [0., 0., 0., 0., 1., 0., 0., 0., 0., 0.],\n",
       "       [0., 0., 0., 0., 0., 1., 0., 0., 0., 0.],\n",
       "       [0., 0., 0., 0., 0., 0., 1., 0., 0., 0.],\n",
       "       [0., 0., 0., 0., 0., 0., 0., 1., 0., 0.],\n",
       "       [0., 0., 0., 0., 0., 0., 0., 0., 1., 0.],\n",
       "       [0., 0., 0., 0., 0., 0., 0., 0., 0., 1.]])"
      ]
     },
     "execution_count": 151,
     "metadata": {},
     "output_type": "execute_result"
    }
   ],
   "source": [
    "ide=np.identity(10) #Creates an identity matrix 10*10\n",
    "ide"
   ]
  },
  {
   "cell_type": "code",
   "execution_count": 152,
   "id": "5a91d5ea",
   "metadata": {},
   "outputs": [
    {
     "data": {
      "text/plain": [
       "array([ 0,  1,  2,  3,  4,  5,  6,  7,  8,  9, 10, 11, 12, 13, 14, 15, 16,\n",
       "       17, 18, 19, 20, 21, 22, 23, 24, 25, 26, 27, 28, 29, 30, 31, 32, 33,\n",
       "       34, 35, 36, 37, 38, 39, 40, 41, 42, 43, 44, 45, 46, 47, 48, 49, 50,\n",
       "       51, 52, 53, 54, 55, 56, 57, 58, 59, 60, 61, 62, 63, 64, 65, 66, 67,\n",
       "       68, 69, 70, 71, 72, 73, 74, 75, 76, 77, 78, 79, 80, 81, 82, 83, 84,\n",
       "       85, 86, 87, 88, 89, 90, 91, 92, 93, 94, 95, 96, 97, 98])"
      ]
     },
     "execution_count": 152,
     "metadata": {},
     "output_type": "execute_result"
    }
   ],
   "source": [
    "arr=np.arange(99)\n",
    "arr"
   ]
  },
  {
   "cell_type": "code",
   "execution_count": 153,
   "id": "bff3412d",
   "metadata": {},
   "outputs": [
    {
     "data": {
      "text/plain": [
       "array([[ 0,  1,  2,  3,  4,  5,  6,  7,  8,  9, 10, 11, 12, 13, 14, 15,\n",
       "        16, 17, 18, 19, 20, 21, 22, 23, 24, 25, 26, 27, 28, 29, 30, 31,\n",
       "        32],\n",
       "       [33, 34, 35, 36, 37, 38, 39, 40, 41, 42, 43, 44, 45, 46, 47, 48,\n",
       "        49, 50, 51, 52, 53, 54, 55, 56, 57, 58, 59, 60, 61, 62, 63, 64,\n",
       "        65],\n",
       "       [66, 67, 68, 69, 70, 71, 72, 73, 74, 75, 76, 77, 78, 79, 80, 81,\n",
       "        82, 83, 84, 85, 86, 87, 88, 89, 90, 91, 92, 93, 94, 95, 96, 97,\n",
       "        98]])"
      ]
     },
     "execution_count": 153,
     "metadata": {},
     "output_type": "execute_result"
    }
   ],
   "source": [
    "arr = arr.reshape(3,33)\n",
    "arr"
   ]
  },
  {
   "cell_type": "code",
   "execution_count": 154,
   "id": "7c49c712",
   "metadata": {},
   "outputs": [
    {
     "data": {
      "text/plain": [
       "array([ 0,  1,  2,  3,  4,  5,  6,  7,  8,  9, 10, 11, 12, 13, 14, 15, 16,\n",
       "       17, 18, 19, 20, 21, 22, 23, 24, 25, 26, 27, 28, 29, 30, 31, 32, 33,\n",
       "       34, 35, 36, 37, 38, 39, 40, 41, 42, 43, 44, 45, 46, 47, 48, 49, 50,\n",
       "       51, 52, 53, 54, 55, 56, 57, 58, 59, 60, 61, 62, 63, 64, 65, 66, 67,\n",
       "       68, 69, 70, 71, 72, 73, 74, 75, 76, 77, 78, 79, 80, 81, 82, 83, 84,\n",
       "       85, 86, 87, 88, 89, 90, 91, 92, 93, 94, 95, 96, 97, 98])"
      ]
     },
     "execution_count": 154,
     "metadata": {},
     "output_type": "execute_result"
    }
   ],
   "source": [
    "arr=arr.ravel() #creates 1D array\n",
    "arr"
   ]
  },
  {
   "cell_type": "code",
   "execution_count": 155,
   "id": "cd912e93",
   "metadata": {},
   "outputs": [
    {
     "data": {
      "text/plain": [
       "(99,)"
      ]
     },
     "execution_count": 155,
     "metadata": {},
     "output_type": "execute_result"
    }
   ],
   "source": [
    "arr.shape"
   ]
  },
  {
   "cell_type": "code",
   "execution_count": 156,
   "id": "8753726e",
   "metadata": {},
   "outputs": [],
   "source": [
    "x=([1,2,3],[4,5,6],[7,8,9])"
   ]
  },
  {
   "cell_type": "code",
   "execution_count": 157,
   "id": "883bba8b",
   "metadata": {},
   "outputs": [],
   "source": [
    "ar=np.array(x)"
   ]
  },
  {
   "cell_type": "code",
   "execution_count": 158,
   "id": "c19c5208",
   "metadata": {},
   "outputs": [
    {
     "data": {
      "text/plain": [
       "array([[1, 2, 3],\n",
       "       [4, 5, 6],\n",
       "       [7, 8, 9]])"
      ]
     },
     "execution_count": 158,
     "metadata": {},
     "output_type": "execute_result"
    }
   ],
   "source": [
    "ar"
   ]
  },
  {
   "cell_type": "code",
   "execution_count": 159,
   "id": "8d911ba8",
   "metadata": {},
   "outputs": [
    {
     "data": {
      "text/plain": [
       "array([[1, 4, 7],\n",
       "       [2, 5, 8],\n",
       "       [3, 6, 9]])"
      ]
     },
     "execution_count": 159,
     "metadata": {},
     "output_type": "execute_result"
    }
   ],
   "source": [
    "ar.T  #Transpose"
   ]
  },
  {
   "cell_type": "code",
   "execution_count": 160,
   "id": "f517d468",
   "metadata": {},
   "outputs": [
    {
     "data": {
      "text/plain": [
       "array([[1, 2, 3],\n",
       "       [4, 5, 6],\n",
       "       [7, 8, 9]])"
      ]
     },
     "execution_count": 160,
     "metadata": {},
     "output_type": "execute_result"
    }
   ],
   "source": [
    "ar"
   ]
  },
  {
   "cell_type": "code",
   "execution_count": 161,
   "id": "a12fb3d4",
   "metadata": {},
   "outputs": [
    {
     "data": {
      "text/plain": [
       "<numpy.flatiter at 0xceb5128b90>"
      ]
     },
     "execution_count": 161,
     "metadata": {},
     "output_type": "execute_result"
    }
   ],
   "source": [
    "ar.flat #Gives iterator"
   ]
  },
  {
   "cell_type": "code",
   "execution_count": 162,
   "id": "67a8bbb9",
   "metadata": {},
   "outputs": [
    {
     "name": "stdout",
     "output_type": "stream",
     "text": [
      "1\n",
      "2\n",
      "3\n",
      "4\n",
      "5\n",
      "6\n",
      "7\n",
      "8\n",
      "9\n"
     ]
    }
   ],
   "source": [
    "for item in ar.flat:\n",
    "    print(item)"
   ]
  },
  {
   "cell_type": "code",
   "execution_count": 163,
   "id": "7a84119d",
   "metadata": {},
   "outputs": [
    {
     "data": {
      "text/plain": [
       "2"
      ]
     },
     "execution_count": 163,
     "metadata": {},
     "output_type": "execute_result"
    }
   ],
   "source": [
    "ar.ndim"
   ]
  },
  {
   "cell_type": "code",
   "execution_count": 164,
   "id": "eb0eddfa",
   "metadata": {},
   "outputs": [
    {
     "data": {
      "text/plain": [
       "9"
      ]
     },
     "execution_count": 164,
     "metadata": {},
     "output_type": "execute_result"
    }
   ],
   "source": [
    "ar.size"
   ]
  },
  {
   "cell_type": "code",
   "execution_count": 165,
   "id": "57bce060",
   "metadata": {},
   "outputs": [
    {
     "data": {
      "text/plain": [
       "36"
      ]
     },
     "execution_count": 165,
     "metadata": {},
     "output_type": "execute_result"
    }
   ],
   "source": [
    "ar.nbytes #How much bytes are consumed\n"
   ]
  },
  {
   "cell_type": "code",
   "execution_count": 166,
   "id": "2f84f090",
   "metadata": {},
   "outputs": [],
   "source": [
    "one=np.array([1,45,788,4])"
   ]
  },
  {
   "cell_type": "code",
   "execution_count": 167,
   "id": "8ea64f64",
   "metadata": {},
   "outputs": [
    {
     "data": {
      "text/plain": [
       "array([  1,  45, 788,   4])"
      ]
     },
     "execution_count": 167,
     "metadata": {},
     "output_type": "execute_result"
    }
   ],
   "source": [
    "one"
   ]
  },
  {
   "cell_type": "code",
   "execution_count": 168,
   "id": "29aa0b0e",
   "metadata": {},
   "outputs": [
    {
     "data": {
      "text/plain": [
       "2"
      ]
     },
     "execution_count": 168,
     "metadata": {},
     "output_type": "execute_result"
    }
   ],
   "source": [
    "one.argmax() #It is a function() which gives the index of highest value"
   ]
  },
  {
   "cell_type": "code",
   "execution_count": 169,
   "id": "55a36406",
   "metadata": {},
   "outputs": [
    {
     "data": {
      "text/plain": [
       "0"
      ]
     },
     "execution_count": 169,
     "metadata": {},
     "output_type": "execute_result"
    }
   ],
   "source": [
    "one.argmin()"
   ]
  },
  {
   "cell_type": "code",
   "execution_count": 170,
   "id": "b91df2df",
   "metadata": {},
   "outputs": [
    {
     "data": {
      "text/plain": [
       "array([0, 3, 1, 2], dtype=int64)"
      ]
     },
     "execution_count": 170,
     "metadata": {},
     "output_type": "execute_result"
    }
   ],
   "source": [
    "one.argsort() #It is a function() which gives index values in ascending order"
   ]
  },
  {
   "cell_type": "code",
   "execution_count": 171,
   "id": "03328e14",
   "metadata": {},
   "outputs": [
    {
     "data": {
      "text/plain": [
       "array([[1, 2, 3],\n",
       "       [4, 5, 6],\n",
       "       [7, 8, 9]])"
      ]
     },
     "execution_count": 171,
     "metadata": {},
     "output_type": "execute_result"
    }
   ],
   "source": [
    "ar\n"
   ]
  },
  {
   "cell_type": "code",
   "execution_count": 172,
   "id": "264a5c35",
   "metadata": {},
   "outputs": [
    {
     "data": {
      "text/plain": [
       "0"
      ]
     },
     "execution_count": 172,
     "metadata": {},
     "output_type": "execute_result"
    }
   ],
   "source": [
    "ar.argmin()"
   ]
  },
  {
   "cell_type": "code",
   "execution_count": 173,
   "id": "cd349817",
   "metadata": {},
   "outputs": [
    {
     "data": {
      "text/plain": [
       "8"
      ]
     },
     "execution_count": 173,
     "metadata": {},
     "output_type": "execute_result"
    }
   ],
   "source": [
    "ar.argmax()"
   ]
  },
  {
   "cell_type": "code",
   "execution_count": 174,
   "id": "313de700",
   "metadata": {},
   "outputs": [],
   "source": [
    "y=([31,24,53],[40,52,26],[97,78,89])"
   ]
  },
  {
   "cell_type": "code",
   "execution_count": 175,
   "id": "d4bce9fd",
   "metadata": {},
   "outputs": [],
   "source": [
    "a=np.array(y)"
   ]
  },
  {
   "cell_type": "code",
   "execution_count": 176,
   "id": "893b208d",
   "metadata": {},
   "outputs": [
    {
     "data": {
      "text/plain": [
       "array([[31, 24, 53],\n",
       "       [40, 52, 26],\n",
       "       [97, 78, 89]])"
      ]
     },
     "execution_count": 176,
     "metadata": {},
     "output_type": "execute_result"
    }
   ],
   "source": [
    "a"
   ]
  },
  {
   "cell_type": "code",
   "execution_count": 177,
   "id": "bf118109",
   "metadata": {},
   "outputs": [
    {
     "data": {
      "text/plain": [
       "array([2, 2, 2], dtype=int64)"
      ]
     },
     "execution_count": 177,
     "metadata": {},
     "output_type": "execute_result"
    }
   ],
   "source": [
    "a.argmax(axis=0)"
   ]
  },
  {
   "cell_type": "code",
   "execution_count": 178,
   "id": "18c235d1",
   "metadata": {},
   "outputs": [
    {
     "data": {
      "text/plain": [
       "array([2, 1, 0], dtype=int64)"
      ]
     },
     "execution_count": 178,
     "metadata": {},
     "output_type": "execute_result"
    }
   ],
   "source": [
    "a.argmax(axis=1)"
   ]
  },
  {
   "cell_type": "code",
   "execution_count": 179,
   "id": "720e3167",
   "metadata": {},
   "outputs": [
    {
     "data": {
      "text/plain": [
       "array([[1, 0, 2],\n",
       "       [2, 0, 1],\n",
       "       [1, 2, 0]], dtype=int64)"
      ]
     },
     "execution_count": 179,
     "metadata": {},
     "output_type": "execute_result"
    }
   ],
   "source": [
    "a.argsort(axis=1)"
   ]
  },
  {
   "cell_type": "code",
   "execution_count": 180,
   "id": "c367bb8d",
   "metadata": {},
   "outputs": [],
   "source": [
    "ar1=np.array([[3, 2, 5],\n",
    "       [0, 5, 2],\n",
    "       [9, 8, 9]])"
   ]
  },
  {
   "cell_type": "code",
   "execution_count": 181,
   "id": "8d782bb8",
   "metadata": {},
   "outputs": [
    {
     "data": {
      "text/plain": [
       "array([[3, 2, 5],\n",
       "       [0, 5, 2],\n",
       "       [9, 8, 9]])"
      ]
     },
     "execution_count": 181,
     "metadata": {},
     "output_type": "execute_result"
    }
   ],
   "source": [
    "ar1"
   ]
  },
  {
   "cell_type": "code",
   "execution_count": 182,
   "id": "cd244c4d",
   "metadata": {},
   "outputs": [],
   "source": [
    "ar2=np.array([[8, 6, 9],\n",
    "       [3, 8, 4],\n",
    "       [7, 8, 0]])"
   ]
  },
  {
   "cell_type": "code",
   "execution_count": 183,
   "id": "3acc9593",
   "metadata": {},
   "outputs": [
    {
     "data": {
      "text/plain": [
       "array([[8, 6, 9],\n",
       "       [3, 8, 4],\n",
       "       [7, 8, 0]])"
      ]
     },
     "execution_count": 183,
     "metadata": {},
     "output_type": "execute_result"
    }
   ],
   "source": [
    "ar2"
   ]
  },
  {
   "cell_type": "code",
   "execution_count": 184,
   "id": "ad543356",
   "metadata": {},
   "outputs": [
    {
     "data": {
      "text/plain": [
       "array([[11,  8, 14],\n",
       "       [ 3, 13,  6],\n",
       "       [16, 16,  9]])"
      ]
     },
     "execution_count": 184,
     "metadata": {},
     "output_type": "execute_result"
    }
   ],
   "source": [
    "ar1+ar2"
   ]
  },
  {
   "cell_type": "code",
   "execution_count": 185,
   "id": "e13a0c38",
   "metadata": {},
   "outputs": [
    {
     "data": {
      "text/plain": [
       "[1, 2, 3, 4, 5, 6]"
      ]
     },
     "execution_count": 185,
     "metadata": {},
     "output_type": "execute_result"
    }
   ],
   "source": [
    "[1,2,3]+[4,5,6] \n",
    "#list cant perform matrix operations , numpy allows matrix operations"
   ]
  },
  {
   "cell_type": "code",
   "execution_count": 186,
   "id": "ed54fb1c",
   "metadata": {},
   "outputs": [
    {
     "data": {
      "text/plain": [
       "array([[24, 12, 45],\n",
       "       [ 0, 40,  8],\n",
       "       [63, 64,  0]])"
      ]
     },
     "execution_count": 186,
     "metadata": {},
     "output_type": "execute_result"
    }
   ],
   "source": [
    "ar1*ar2"
   ]
  },
  {
   "cell_type": "code",
   "execution_count": 187,
   "id": "068cd643",
   "metadata": {},
   "outputs": [
    {
     "data": {
      "text/plain": [
       "array([[3, 2, 5],\n",
       "       [0, 5, 2],\n",
       "       [9, 8, 9]])"
      ]
     },
     "execution_count": 187,
     "metadata": {},
     "output_type": "execute_result"
    }
   ],
   "source": [
    "ar1"
   ]
  },
  {
   "cell_type": "code",
   "execution_count": 188,
   "id": "548795ce",
   "metadata": {},
   "outputs": [
    {
     "data": {
      "text/plain": [
       "array([[1.73205081, 1.41421356, 2.23606798],\n",
       "       [0.        , 2.23606798, 1.41421356],\n",
       "       [3.        , 2.82842712, 3.        ]])"
      ]
     },
     "execution_count": 188,
     "metadata": {},
     "output_type": "execute_result"
    }
   ],
   "source": [
    "np.sqrt(ar1)"
   ]
  },
  {
   "cell_type": "code",
   "execution_count": 189,
   "id": "33e14d91",
   "metadata": {},
   "outputs": [
    {
     "data": {
      "text/plain": [
       "array([[8, 6, 9],\n",
       "       [3, 8, 4],\n",
       "       [7, 8, 0]])"
      ]
     },
     "execution_count": 189,
     "metadata": {},
     "output_type": "execute_result"
    }
   ],
   "source": [
    "ar2"
   ]
  },
  {
   "cell_type": "code",
   "execution_count": 190,
   "id": "75eac597",
   "metadata": {},
   "outputs": [
    {
     "data": {
      "text/plain": [
       "(array([0, 0, 1, 2], dtype=int64), array([0, 2, 1, 1], dtype=int64))"
      ]
     },
     "execution_count": 190,
     "metadata": {},
     "output_type": "execute_result"
    }
   ],
   "source": [
    "np.where(ar2>7)"
   ]
  },
  {
   "cell_type": "code",
   "execution_count": 191,
   "id": "5f5dbf2a",
   "metadata": {},
   "outputs": [
    {
     "data": {
      "text/plain": [
       "tuple"
      ]
     },
     "execution_count": 191,
     "metadata": {},
     "output_type": "execute_result"
    }
   ],
   "source": [
    "type(np.where(ar2>7))"
   ]
  },
  {
   "cell_type": "code",
   "execution_count": 192,
   "id": "a1178edd",
   "metadata": {},
   "outputs": [
    {
     "data": {
      "text/plain": [
       "8"
      ]
     },
     "execution_count": 192,
     "metadata": {},
     "output_type": "execute_result"
    }
   ],
   "source": [
    "np.count_nonzero(ar1)"
   ]
  },
  {
   "cell_type": "code",
   "execution_count": 193,
   "id": "fe910ab9",
   "metadata": {},
   "outputs": [
    {
     "data": {
      "text/plain": [
       "(array([0, 0, 0, 1, 1, 1, 2, 2], dtype=int64),\n",
       " array([0, 1, 2, 0, 1, 2, 0, 1], dtype=int64))"
      ]
     },
     "execution_count": 193,
     "metadata": {},
     "output_type": "execute_result"
    }
   ],
   "source": [
    "np.nonzero(ar2)"
   ]
  },
  {
   "cell_type": "code",
   "execution_count": 194,
   "id": "f85ed3a6",
   "metadata": {},
   "outputs": [],
   "source": [
    "ar2[1,1]=0"
   ]
  },
  {
   "cell_type": "code",
   "execution_count": 195,
   "id": "bcf34302",
   "metadata": {},
   "outputs": [
    {
     "data": {
      "text/plain": [
       "(array([0, 0, 0, 1, 1, 2, 2], dtype=int64),\n",
       " array([0, 1, 2, 0, 2, 0, 1], dtype=int64))"
      ]
     },
     "execution_count": 195,
     "metadata": {},
     "output_type": "execute_result"
    }
   ],
   "source": [
    "np.nonzero(ar2)"
   ]
  },
  {
   "cell_type": "code",
   "execution_count": null,
   "id": "de460908",
   "metadata": {},
   "outputs": [],
   "source": []
  }
 ],
 "metadata": {
  "kernelspec": {
   "display_name": "Python 3 (ipykernel)",
   "language": "python",
   "name": "python3"
  },
  "language_info": {
   "codemirror_mode": {
    "name": "ipython",
    "version": 3
   },
   "file_extension": ".py",
   "mimetype": "text/x-python",
   "name": "python",
   "nbconvert_exporter": "python",
   "pygments_lexer": "ipython3",
   "version": "3.10.3"
  }
 },
 "nbformat": 4,
 "nbformat_minor": 5
}
